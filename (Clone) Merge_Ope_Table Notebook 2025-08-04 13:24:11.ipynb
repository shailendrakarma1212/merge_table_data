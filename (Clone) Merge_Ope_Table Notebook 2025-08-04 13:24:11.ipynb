{
 "cells": [
  {
   "cell_type": "markdown",
   "metadata": {
    "application/vnd.databricks.v1+cell": {
     "cellMetadata": {},
     "inputWidgets": {},
     "nuid": "c06fbbbf-d00b-465c-9594-1e7387f173a5",
     "showTitle": false,
     "tableResultSettingsMap": {},
     "title": ""
    }
   },
   "source": [
    "# perform merge Operation  "
   ]
  },
  {
   "cell_type": "code",
   "execution_count": 0,
   "metadata": {
    "application/vnd.databricks.v1+cell": {
     "cellMetadata": {
      "byteLimit": 2048000,
      "rowLimit": 10000
     },
     "inputWidgets": {},
     "nuid": "b1f9a8ad-4288-4cfc-ab23-f43b0063a72e",
     "showTitle": false,
     "tableResultSettingsMap": {},
     "title": ""
    }
   },
   "outputs": [],
   "source": [
    "%python\n",
    "\"\"\"✅ Why We Merge Tables (with Examples)\n",
    "1. Avoiding Duplicate Records\n",
    "If you insert data blindly, the same patient might appear multiple times.\n",
    "\n",
    "MERGE helps insert only new records, or update existing ones if needed.\n",
    "\n",
    "🧠 Example:\n",
    "If patient_id = 2 is already in the table, merging prevents this row from being inserted again.\n",
    "\n",
    "2. Combining Data from Multiple Sources\n",
    "You might have:\n",
    "\n",
    "A Patients table → contains personal info.\n",
    "\n",
    "An Appointments table → contains visit details.\n",
    "\n",
    "| Reason                  | Why It’s Important                      |\n",
    "| ----------------------- | --------------------------------------- |\n",
    "| Remove duplicates       | Keeps data clean                        |\n",
    "| Combine sources         | Gets a full picture of a record         |\n",
    "| Update existing records | Keeps info current                      |\n",
    "| Automate workflows      | Enables real-time and scalable data ops |\n"
   ]
  },
  {
   "cell_type": "code",
   "execution_count": 0,
   "metadata": {
    "application/vnd.databricks.v1+cell": {
     "cellMetadata": {
      "byteLimit": 2048000,
      "implicitDf": true,
      "rowLimit": 10000
     },
     "inputWidgets": {},
     "nuid": "c98e1282-4c40-450d-a71a-fd7a85324bc2",
     "showTitle": false,
     "tableResultSettingsMap": {
      "0": {
       "dataGridStateBlob": "{\"version\":1,\"tableState\":{\"columnPinning\":{\"left\":[\"#row_number#\"],\"right\":[]},\"columnSizing\":{\"num_affected_rows\":266,\"num_inserted_rows\":257},\"columnVisibility\":{}},\"settings\":{\"columns\":{}},\"syncTimestamp\":1754294403922}",
       "filterBlob": null,
       "queryPlanFiltersBlob": null,
       "tableResultIndex": 0
      }
     },
     "title": ""
    }
   },
   "outputs": [],
   "source": [
    "%sql\n",
    "CREATE TABLE IF NOT EXISTS my_unity_catalog_metastore.merge_table.patient (\n",
    "  patient_id INT PRIMARY KEY,\n",
    "  patient_name STRING,\n",
    "  age INT,\n",
    "  gender STRING,  \n",
    "  doctor_name STRING,\n",
    "  appointment_date DATE\n",
    ")\n",
    "USING DELTA;"
   ]
  },
  {
   "cell_type": "code",
   "execution_count": 0,
   "metadata": {
    "application/vnd.databricks.v1+cell": {
     "cellMetadata": {
      "byteLimit": 2048000,
      "rowLimit": 10000
     },
     "inputWidgets": {},
     "nuid": "4a0a7498-c56f-4cb3-bba9-2e857d2f829d",
     "showTitle": false,
     "tableResultSettingsMap": {},
     "title": ""
    }
   },
   "outputs": [],
   "source": [
    "INSERT INTO my_unity_catalog_metastore.merge_table.patient (patient_id, patient_name, age, gender, doctor_name, appointment_date) VALUES\n",
    "  (1, 'Alice Smith', 30, 'Female', 'Dr. Brown', '2025-08-01'),\n",
    "  (2, 'Bob Johnson', 45, 'Male', 'Dr. Green', '2025-08-02'),\n",
    "  (3, 'Carol Lee', 28, 'Female', 'Dr. White', '2025-08-03');"
   ]
  },
  {
   "cell_type": "code",
   "execution_count": 0,
   "metadata": {
    "application/vnd.databricks.v1+cell": {
     "cellMetadata": {
      "byteLimit": 2048000,
      "rowLimit": 10000
     },
     "inputWidgets": {},
     "nuid": "28eb3879-c13e-4f60-a95a-0a28fc6fcbad",
     "showTitle": false,
     "tableResultSettingsMap": {},
     "title": ""
    }
   },
   "outputs": [],
   "source": [
    "CREATE TABLE IF NOT EXISTS my_unity_catalog_metastore.merge_table.totle_merge_patient (\n",
    "  patient_id INT PRIMARY KEY,\n",
    "  patient_name STRING,\n",
    "  age INT,\n",
    "  gender STRING,  \n",
    "  doctor_name STRING,\n",
    "  appointment_date DATE\n",
    ")\n",
    "USING DELTA;"
   ]
  },
  {
   "cell_type": "code",
   "execution_count": 0,
   "metadata": {
    "application/vnd.databricks.v1+cell": {
     "cellMetadata": {
      "byteLimit": 2048000,
      "rowLimit": 10000
     },
     "inputWidgets": {},
     "nuid": "6d343c85-095d-40cd-a5d7-40907c3122d9",
     "showTitle": false,
     "tableResultSettingsMap": {},
     "title": ""
    }
   },
   "outputs": [],
   "source": [
    "%sql\n",
    "MERGE INTO my_unity_catalog_metastore.merge_table.totle_merge_patient AS target\n",
    "USING my_unity_catalog_metastore.merge_table.patient AS source\n",
    "ON target.patient_id = source.patient_id\n",
    "WHEN NOT MATCHED THEN\n",
    "  INSERT (\n",
    "    patient_id,\n",
    "    patient_name,\n",
    "    age,\n",
    "    gender,\n",
    "    doctor_name,\n",
    "    appointment_date\n",
    "  )\n",
    "  VALUES (\n",
    "    source.patient_id,\n",
    "    source.patient_name,\n",
    "    source.age,\n",
    "    source.gender,\n",
    "    source.doctor_name,\n",
    "    source.appointment_date\n",
    "  );\n"
   ]
  },
  {
   "cell_type": "code",
   "execution_count": 0,
   "metadata": {
    "application/vnd.databricks.v1+cell": {
     "cellMetadata": {
      "byteLimit": 2048000,
      "rowLimit": 10000
     },
     "inputWidgets": {},
     "nuid": "99abce4a-8e53-4533-bcd3-c5305c098a76",
     "showTitle": false,
     "tableResultSettingsMap": {},
     "title": ""
    }
   },
   "outputs": [],
   "source": [
    "select * from my_unity_catalog_metastore.merge_table.totle_merge_patient"
   ]
  },
  {
   "cell_type": "code",
   "execution_count": 0,
   "metadata": {
    "application/vnd.databricks.v1+cell": {
     "cellMetadata": {
      "byteLimit": 2048000,
      "rowLimit": 10000
     },
     "inputWidgets": {},
     "nuid": "01dfd4be-fe47-4d77-a97e-145481046e47",
     "showTitle": false,
     "tableResultSettingsMap": {},
     "title": ""
    }
   },
   "outputs": [],
   "source": [
    "%sql\n",
    "INSERT INTO my_unity_catalog_metastore.merge_table.totle_merge_patient (\n",
    "    patient_id, \n",
    "    patient_name, \n",
    "    age, \n",
    "    gender, \n",
    "    doctor_name, \n",
    "    appointment_date\n",
    ") VALUES \n",
    "  (4, 'David Roy', 36, 'Male', 'Dr. Mehra', '2025-08-05'),\n",
    "  (5, 'Emma Khan', 29, 'Female', 'Dr. Sharma', '2025-08-06'),\n",
    "  (6, 'Ravi Patel', 50, 'Male', 'Dr. Gupta', '2025-08-07');\n"
   ]
  },
  {
   "cell_type": "code",
   "execution_count": 0,
   "metadata": {
    "application/vnd.databricks.v1+cell": {
     "cellMetadata": {
      "byteLimit": 2048000,
      "rowLimit": 10000
     },
     "inputWidgets": {},
     "nuid": "0b2f5bcd-fd66-4f82-8572-75010044a0d3",
     "showTitle": false,
     "tableResultSettingsMap": {},
     "title": ""
    }
   },
   "outputs": [],
   "source": [
    "select * from my_unity_catalog_metastore.merge_table.totle_merge_patient"
   ]
  },
  {
   "cell_type": "code",
   "execution_count": 0,
   "metadata": {
    "application/vnd.databricks.v1+cell": {
     "cellMetadata": {},
     "inputWidgets": {},
     "nuid": "8633ec6b-fe5d-46c2-8547-8bc7784ef039",
     "showTitle": false,
     "tableResultSettingsMap": {},
     "title": ""
    }
   },
   "outputs": [],
   "source": []
  }
 ],
 "metadata": {
  "application/vnd.databricks.v1+notebook": {
   "computePreferences": null,
   "dashboards": [],
   "environmentMetadata": {
    "base_environment": "",
    "environment_version": "2"
   },
   "inputWidgetPreferences": null,
   "language": "sql",
   "notebookMetadata": {
    "mostRecentlyExecutedCommandWithImplicitDF": {
     "commandId": -1,
     "dataframes": [
      "_sqldf"
     ]
    },
    "pythonIndentUnit": 4
   },
   "notebookName": "(Clone) Merge_Ope_Table Notebook 2025-08-04 13:24:11",
   "widgets": {}
  },
  "language_info": {
   "name": "sql"
  }
 },
 "nbformat": 4,
 "nbformat_minor": 0
}
